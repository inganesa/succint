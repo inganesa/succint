{
 "cells": [
  {
   "cell_type": "code",
   "execution_count": 218,
   "metadata": {},
   "outputs": [],
   "source": [
    "from nltk.corpus import stopwords\n",
    "from nltk.tokenize import word_tokenize\n",
    "from nltk.stem import PorterStemmer\n",
    "from collections import Counter\n",
    "from num2words import num2words\n",
    "from typing import NamedTuple\n",
    "\n",
    "import nltk\n",
    "import os\n",
    "import string\n",
    "import numpy as np\n",
    "import copy\n",
    "import pandas as pd\n",
    "import pickle\n",
    "import re\n",
    "import math\n",
    "\n",
    "# %load_ext autotime\n",
    "#nltk.download('stopwords')\n",
    "#nltk.download('punkt')\n"
   ]
  },
  {
   "cell_type": "markdown",
   "metadata": {},
   "source": [
    "## PreProcessing"
   ]
  },
  {
   "cell_type": "code",
   "execution_count": 219,
   "metadata": {},
   "outputs": [],
   "source": [
    "def convert_lower_case(data):\n",
    "    return np.char.lower(data)"
   ]
  },
  {
   "cell_type": "code",
   "execution_count": 220,
   "metadata": {},
   "outputs": [],
   "source": [
    "def remove_stop_words(data):\n",
    "    stop_words = stopwords.words('english')\n",
    "    words = word_tokenize(str(data))\n",
    "    new_text = \"\"\n",
    "    for w in words:\n",
    "        if w not in stop_words and len(w) > 1:\n",
    "            new_text = new_text + \" \" + w\n",
    "    return new_text"
   ]
  },
  {
   "cell_type": "code",
   "execution_count": 221,
   "metadata": {},
   "outputs": [],
   "source": [
    "def remove_punctuation(data):\n",
    "    symbols = \"!\\\"#$%&()*+-./:;<=>?@[\\]^_`{|}~\\n\"\n",
    "    for i in range(len(symbols)):\n",
    "        data = np.char.replace(data, symbols[i], ' ')\n",
    "        data = np.char.replace(data, \"  \", \" \")\n",
    "    data = np.char.replace(data, ',', '')\n",
    "    return data"
   ]
  },
  {
   "cell_type": "code",
   "execution_count": 222,
   "metadata": {},
   "outputs": [],
   "source": [
    "def remove_apostrophe(data):\n",
    "    return np.char.replace(data, \"'\", \"\")"
   ]
  },
  {
   "cell_type": "code",
   "execution_count": 223,
   "metadata": {},
   "outputs": [],
   "source": [
    "def stemming(data):\n",
    "    stemmer= PorterStemmer()\n",
    "    \n",
    "    tokens = word_tokenize(str(data))\n",
    "    new_text = \"\"\n",
    "    for w in tokens:\n",
    "        new_text = new_text + \" \" + stemmer.stem(w)\n",
    "    return new_text"
   ]
  },
  {
   "cell_type": "code",
   "execution_count": 224,
   "metadata": {},
   "outputs": [],
   "source": [
    "def convert_numbers(data):\n",
    "    tokens = word_tokenize(str(data))\n",
    "    new_text = \"\"\n",
    "    for w in tokens:\n",
    "        try:\n",
    "            w = num2words(int(w))\n",
    "        except:\n",
    "            a = 0\n",
    "        new_text = new_text + \" \" + w\n",
    "    new_text = np.char.replace(new_text, \"-\", \" \")\n",
    "    return new_text"
   ]
  },
  {
   "cell_type": "code",
   "execution_count": 225,
   "metadata": {},
   "outputs": [],
   "source": [
    "def preprocess(data):\n",
    "    data = convert_lower_case(data)\n",
    "    data = remove_punctuation(data) #remove comma seperately\n",
    "    data = remove_apostrophe(data)\n",
    "    data = remove_stop_words(data)\n",
    "    data = convert_numbers(data)\n",
    "    data = stemming(data)\n",
    "    data = remove_punctuation(data)\n",
    "    data = convert_numbers(data)\n",
    "    data = stemming(data) #needed again as we need to stem the words\n",
    "    data = remove_punctuation(data) #needed again as num2word is giving few hypens and commas fourty-one\n",
    "    data = remove_stop_words(data) #needed again as num2word is giving stop words 101 - one hundred and one\n",
    "    return data"
   ]
  },
  {
   "cell_type": "markdown",
   "metadata": {},
   "source": [
    "## Build Index"
   ]
  },
  {
   "cell_type": "code",
   "execution_count": 226,
   "metadata": {},
   "outputs": [],
   "source": [
    "def getDataset(title):\n",
    "    dataset = []\n",
    "    c = False\n",
    "    folders = [x[0] for x in os.walk(str(os.getcwd())+'/'+title+'/')]\n",
    "    folders[0] = folders[0][:len(folders[0])-1]\n",
    "    for i in folders:\n",
    "        file = open(i+\"/index.html\", 'r')\n",
    "        text = file.read().strip()\n",
    "        file.close()\n",
    "\n",
    "        file_name = re.findall('><A HREF=\"(.*)\">', text)\n",
    "        file_title = re.findall('<BR><TD> (.*)\\n', text)\n",
    "\n",
    "        if c == False:\n",
    "            file_name = file_name[2:]\n",
    "            c = True\n",
    "        \n",
    "        #print(len(file_name), len(file_title))\n",
    "\n",
    "        for j in range(len(file_name)):\n",
    "            dataset.append((str(i) +\"/\"+ str(file_name[j]), file_title[j]))\n",
    "\n",
    "    return dataset"
   ]
  },
  {
   "cell_type": "code",
   "execution_count": 245,
   "metadata": {},
   "outputs": [],
   "source": [
    "def extractData(title):\n",
    "    processed_text = []\n",
    "    processed_title = []\n",
    "    dataset = []\n",
    "    dataset = getDataset(title)\n",
    "    N = len(dataset)\n",
    "    for i in dataset[:N]:\n",
    "        file = open(i[0], 'r', encoding=\"utf8\", errors='ignore') # i[0] contains file location\n",
    "        text = file.read().strip()\n",
    "        file.close()\n",
    "\n",
    "        processed_text.append(word_tokenize(str(preprocess(text))))\n",
    "        processed_title.append(word_tokenize(str(preprocess(i[1]))))\n",
    "    return processed_text, processed_title"
   ]
  },
  {
   "cell_type": "code",
   "execution_count": 228,
   "metadata": {},
   "outputs": [],
   "source": [
    "def getPostingList(processed_text, processed_title):\n",
    "    PL = {}\n",
    "    N = len(processed_text)\n",
    "    for i in range(N):\n",
    "        tokens = processed_text[i]\n",
    "        for w in tokens:\n",
    "            try:\n",
    "                PL[w].add(i)\n",
    "            except:\n",
    "                PL[w] = {i}\n",
    "\n",
    "        tokens = processed_title[i]\n",
    "        for w in tokens:\n",
    "            try:\n",
    "                PL[w].add(i)\n",
    "            except:\n",
    "                PL[w] = {i}\n",
    "    return PL"
   ]
  },
  {
   "cell_type": "code",
   "execution_count": 229,
   "metadata": {},
   "outputs": [],
   "source": [
    "def getDocumentMetadata(processed_text, processed_title):\n",
    "    DMText = {}\n",
    "    DMTitle = {}\n",
    "    N = len(processed_text)\n",
    "    for i in range(N):\n",
    "        tokens = processed_text[i]\n",
    "        counter = Counter(tokens)\n",
    "        for token in np.unique(tokens):\n",
    "            try:\n",
    "                DMText[i].add(token, counter[token])\n",
    "            except:\n",
    "                DMText[i] = {token, counter[token]}\n",
    "    for i in range(N):\n",
    "        tokens = processed_title[1]\n",
    "        counter = Counter(tokens)\n",
    "        for token in np.unique(tokens):\n",
    "            try:\n",
    "                DMTitle[i].add(token, counter[token])\n",
    "            except:\n",
    "                DMTitle[i] = {token, counter[token]}\n",
    "\n",
    "    return DMText, DMTitle"
   ]
  },
  {
   "cell_type": "code",
   "execution_count": 230,
   "metadata": {},
   "outputs": [],
   "source": [
    "def printIndex(PL, DMText, DMTitle):\n",
    "    N = len(PL) # doc list for each word in dataset vocab\n",
    "    for w in PL:\n",
    "        print (\"word=\",w[0],\" list=\", w[1])\n",
    "    for m in DMText:\n",
    "        print (\"doc_id=\",m[0],\" term= \",m[1][0],\" freq= \",m[1][1])\n",
    "    for m in  DMTitle:\n",
    "        print (\"doc_id=\",m[0],\" term= \", m[1][0],\" freq= \",m[1][1])"
   ]
  },
  {
   "cell_type": "code",
   "execution_count": 231,
   "metadata": {},
   "outputs": [],
   "source": [
    "def buildIndex(title):\n",
    "    processed_text = []\n",
    "    processed_title = []\n",
    "    processed_text, processed_title = extractData(title)\n",
    "    PL = {}\n",
    "    PL = getPostingList(processed_text, processed_title)\n",
    "    DMText = {}\n",
    "    DMTitle = {}\n",
    "    DMText, DMTitle = getDocumentMetadata(processed_text, processed_title)\n",
    "    #printIndex(PL, DMText, DMTitle)\n",
    "    #print(len(PL))\n",
    "    return PL, DMText, DMTitle\n",
    "    "
   ]
  },
  {
   "cell_type": "code",
   "execution_count": 232,
   "metadata": {},
   "outputs": [],
   "source": [
    "def docFreq(PL, word):\n",
    "    c = 0\n",
    "    try:\n",
    "        c = len(PL[word])\n",
    "    except:\n",
    "        pass\n",
    "    return c"
   ]
  },
  {
   "cell_type": "code",
   "execution_count": 233,
   "metadata": {},
   "outputs": [],
   "source": [
    "def termFreq(DM, term, doc_id):\n",
    "    tf = 0\n",
    "    try:\n",
    "        tf = DM[doc_id][term]\n",
    "    except:\n",
    "        pass\n",
    "    return tf"
   ]
  },
  {
   "cell_type": "code",
   "execution_count": 243,
   "metadata": {},
   "outputs": [],
   "source": [
    "def tfidf(PL, DMTitle, DMText, term, doc_id):\n",
    "    alpha = 0.3\n",
    "    N = len(DMTitle)\n",
    "    tf = termFreq(DMTitle, term, doc_id) + alpha * termFreq(DMText, term, doc_id)\n",
    "    df = docFreq(PL, term)\n",
    "    idf = np.log((N+1)/(df+1))\n",
    "    return tf*idf"
   ]
  },
  {
   "cell_type": "code",
   "execution_count": 235,
   "metadata": {},
   "outputs": [],
   "source": [
    "def plMerge(pl1, pl2):\n",
    "    #Merge dictionaries and keep values of common keys in list\n",
    "    pl = {**pl1, **pl2}\n",
    "    for key, value in pl2.items():\n",
    "        if key in pl1 and key in pl2:\n",
    "            pl[key] = [value , pl1[key]]\n",
    "    return pl"
   ]
  },
  {
   "cell_type": "code",
   "execution_count": 236,
   "metadata": {},
   "outputs": [],
   "source": [
    "def mergeIndices(pl1, pl2, dmtext1, dmtext2, dmtitle1, dmtitle2): #pl - posting list, dm - document metadata\n",
    "    dmtext = {}\n",
    "    dmtitle = {}\n",
    "    pl = {}\n",
    "    #dmtext = dm_merge(dmtext1, dmtext2)\n",
    "    dmtext = {**dmtext1, **dmtext2}\n",
    "    #dmtitle = dm_merge(dmtext1, dmtext2)\n",
    "    dmtitle = {**dmtit1e1, **dmtitle2}\n",
    "    pl = plMerge(pl1, pl2)\n",
    "    return pl, dmtext, dmtitle\n",
    "    "
   ]
  },
  {
   "cell_type": "code",
   "execution_count": 237,
   "metadata": {},
   "outputs": [],
   "source": [
    "def queryfunc(title, k, query):\n",
    "    preprocessed_query = preprocess(query)\n",
    "    tokens = word_tokenize(str(preprocessed_query))\n",
    "\n",
    "    print(\"My Query Function\")\n",
    "    print(\"\\nQuery:\", query)\n",
    "    print(\"\")\n",
    "    print(tokens)\n",
    "    \n",
    "    PL, DMText, DMTitle = buildIndex(title)\n",
    "    query_weights = {}\n",
    "    for w in tokens:\n",
    "        for d in PL[w]:\n",
    "            try:\n",
    "                query_weights[d] += tfidf(PL, DMText, DMTitle, w, d)\n",
    "            except:\n",
    "                query_weights[d] = tfidf(PL, DMText, DMTitle, w, d)\n",
    "    query_weights = sorted(query_weights.items(), key=lambda x: x[1], reverse=True)\n",
    "\n",
    "    print(\"\")\n",
    "    \n",
    "    l = []\n",
    "    \n",
    "    for i in query_weights[:k]:\n",
    "        l.append(i[0])\n",
    "    \n",
    "    print(l)\n",
    "    return l"
   ]
  },
  {
   "cell_type": "code",
   "execution_count": 244,
   "metadata": {},
   "outputs": [
    {
     "name": "stdout",
     "output_type": "stream",
     "text": [
      "My Query Function\n",
      "\n",
      "Query: Polymetals are alloys of metals that have polymer composites\n",
      "\n",
      "['polymet', 'alloy', 'metal', 'polym', 'composit']\n",
      "\n",
      "[118, 119, 356]\n"
     ]
    },
    {
     "data": {
      "text/plain": [
       "[118, 119, 356]"
      ]
     },
     "execution_count": 244,
     "metadata": {},
     "output_type": "execute_result"
    }
   ],
   "source": [
    "queryfunc(\"stories\", 3, \"Polymetals are alloys of metals that have polymer composites\")"
   ]
  },
  {
   "cell_type": "code",
   "execution_count": null,
   "metadata": {},
   "outputs": [],
   "source": []
  }
 ],
 "metadata": {
  "kernelspec": {
   "display_name": "Python 3",
   "language": "python",
   "name": "python3"
  },
  "language_info": {
   "codemirror_mode": {
    "name": "ipython",
    "version": 3
   },
   "file_extension": ".py",
   "mimetype": "text/x-python",
   "name": "python",
   "nbconvert_exporter": "python",
   "pygments_lexer": "ipython3",
   "version": "3.7.6"
  }
 },
 "nbformat": 4,
 "nbformat_minor": 4
}
