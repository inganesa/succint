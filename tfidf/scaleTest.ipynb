{
 "cells": [
  {
   "cell_type": "markdown",
   "metadata": {},
   "source": [
    "### Time and Memory taken for 1 , 10 and 100 million dictionary inserts"
   ]
  },
  {
   "cell_type": "code",
   "execution_count": 10,
   "metadata": {},
   "outputs": [
    {
     "name": "stdout",
     "output_type": "stream",
     "text": [
      "start time for 1 million inserts 454.350391\n",
      "time taken for 1 million entries 9.041639999999973\n",
      "size of dict 41943152\n",
      "start time for 10 million inserts 463.392284\n",
      "time taken for 10 million entries 4.160785999999973\n",
      "size of dict 335544424\n",
      "start time for 100 million inserts 467.553317\n",
      "time taken for 100 million entries 47.18868999999995\n",
      "size of dict 5368709224\n"
     ]
    }
   ],
   "source": [
    "import time\n",
    "import sys\n",
    "\n",
    "start = time.process_time()\n",
    "dict = {}\n",
    "print (\"start time for 1 million inserts\", start)\n",
    "for i in range(0,1000000):\n",
    "    dict[i] = \"text\" + str(i)\n",
    "end = time.process_time()\n",
    "print(\"time taken for 1 million entries\", end - start)\n",
    "print (\"size of dict\", sys.getsizeof(dict))\n",
    "\n",
    "\n",
    "start = time.process_time()\n",
    "print (\"start time for 10 million inserts\", start)\n",
    "dict = {}\n",
    "for i in range(0,10000000):\n",
    "    dict[i] = \"text\" + str(i)\n",
    "end = time.process_time()\n",
    "\n",
    "print(\"time taken for 10 million entries\", end - start)\n",
    "print(\"size of dict\", sys.getsizeof(dict))\n",
    "\n",
    "start = time.process_time()\n",
    "print (\"start time for 100 million inserts\", start)\n",
    "dict = {}\n",
    "for i in range(0,100000000):\n",
    "    dict[i] = \"text\" + str(i)\n",
    "end = time.process_time()\n",
    "\n",
    "print(\"time taken for 100 million entries\", end - start)\n",
    "print(\"size of dict\", sys.getsizeof(dict))"
   ]
  },
  {
   "cell_type": "code",
   "execution_count": null,
   "metadata": {},
   "outputs": [],
   "source": []
  }
 ],
 "metadata": {
  "kernelspec": {
   "display_name": "Python 3",
   "language": "python",
   "name": "python3"
  },
  "language_info": {
   "codemirror_mode": {
    "name": "ipython",
    "version": 3
   },
   "file_extension": ".py",
   "mimetype": "text/x-python",
   "name": "python",
   "nbconvert_exporter": "python",
   "pygments_lexer": "ipython3",
   "version": "3.7.6"
  }
 },
 "nbformat": 4,
 "nbformat_minor": 4
}
